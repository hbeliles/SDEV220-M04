{
 "cells": [
  {
   "cell_type": "code",
   "execution_count": 3,
   "metadata": {},
   "outputs": [
    {
     "name": "stdout",
     "output_type": "stream",
     "text": [
      "1\n"
     ]
    }
   ],
   "source": [
    "# OOP Subtract\n",
    "class Calculate:\n",
    "    def subtract(self, a, b):\n",
    "        return a - b\n",
    "calculate = Calculate()\n",
    "calculation = calculate.subtract(2, 1)\n",
    "print(calculation)\n",
    "\n"
   ]
  },
  {
   "cell_type": "code",
   "execution_count": 7,
   "metadata": {},
   "outputs": [
    {
     "name": "stdout",
     "output_type": "stream",
     "text": [
      "1\n"
     ]
    }
   ],
   "source": [
    "#Fuctional Subtract\n",
    "def subtract(a, b):\n",
    "    return a - b\n",
    "\n",
    "calculation = subtract(2, 1)\n",
    "print(calculation)"
   ]
  },
  {
   "cell_type": "code",
   "execution_count": 4,
   "metadata": {},
   "outputs": [
    {
     "name": "stdout",
     "output_type": "stream",
     "text": [
      "4\n"
     ]
    }
   ],
   "source": [
    "# OOP Division\n",
    "class Calculate:\n",
    "    def divide(self, a, b):\n",
    "        return a/b\n",
    "\n",
    "calculate = Calculate()\n",
    "calculation = calculate.divide(6, 2)\n",
    "print(calculation)\n",
    "\n"
   ]
  },
  {
   "cell_type": "code",
   "execution_count": 3,
   "metadata": {},
   "outputs": [
    {
     "name": "stdout",
     "output_type": "stream",
     "text": [
      "3.0\n"
     ]
    }
   ],
   "source": [
    "# Functional Division\n",
    "def divide(a,b):\n",
    "    return a/b\n",
    "\n",
    "calculation = divide(6, 2)\n",
    "print(calculation)"
   ]
  }
 ],
 "metadata": {
  "kernelspec": {
   "display_name": "Python 3",
   "language": "python",
   "name": "python3"
  },
  "language_info": {
   "codemirror_mode": {
    "name": "ipython",
    "version": 3
   },
   "file_extension": ".py",
   "mimetype": "text/x-python",
   "name": "python",
   "nbconvert_exporter": "python",
   "pygments_lexer": "ipython3",
   "version": "3.10.3"
  },
  "orig_nbformat": 4
 },
 "nbformat": 4,
 "nbformat_minor": 2
}

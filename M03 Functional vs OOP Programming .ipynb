{
 "cells": [
  {
   "cell_type": "code",
   "execution_count": 1,
   "metadata": {},
   "outputs": [
    {
     "name": "stdout",
     "output_type": "stream",
     "text": [
      "4\n",
      "3.0\n"
     ]
    }
   ],
   "source": [
    "# OOP \n",
    "class Calculate:\n",
    "    def __init__(self, a, b):\n",
    "        self.a = a\n",
    "        self.b = b\n",
    "        \n",
    "    def subtract(self):\n",
    "        return self.a - self.b\n",
    "        \n",
    "    def divide(self):\n",
    "        if self.b == 0:\n",
    "            return \"Error: division by zero\"\n",
    "        else:\n",
    "            return self.a / self.b\n",
    "        \n",
    "calc = Calculate(6, 2)\n",
    "print(calc.subtract())  # Output: 5\n",
    "print(calc.divide())  # Output: 2.0\n",
    "\n"
   ]
  },
  {
   "cell_type": "code",
   "execution_count": 7,
   "metadata": {},
   "outputs": [
    {
     "name": "stdout",
     "output_type": "stream",
     "text": [
      "1\n"
     ]
    }
   ],
   "source": [
    "#Fuctional \n",
    "def subtract(a, b):\n",
    "    return a - b\n",
    "\n",
    "calculation = subtract(2, 1)\n",
    "print(calculation)\n",
    "\n",
    "def divide(a,b):\n",
    "    return a/b\n",
    "\n",
    "calculation = divide(6, 2)\n",
    "print(calculation)"
   ]
  }
 ],
 "metadata": {
  "kernelspec": {
   "display_name": "Python 3",
   "language": "python",
   "name": "python3"
  },
  "language_info": {
   "codemirror_mode": {
    "name": "ipython",
    "version": 3
   },
   "file_extension": ".py",
   "mimetype": "text/x-python",
   "name": "python",
   "nbconvert_exporter": "python",
   "pygments_lexer": "ipython3",
   "version": "3.10.3"
  },
  "orig_nbformat": 4
 },
 "nbformat": 4,
 "nbformat_minor": 2
}
